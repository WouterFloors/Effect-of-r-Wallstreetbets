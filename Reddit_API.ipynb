{
  "nbformat": 4,
  "nbformat_minor": 0,
  "metadata": {
    "colab": {
      "name": "Reddit API.ipynb",
      "provenance": [],
      "collapsed_sections": [],
      "include_colab_link": true
    },
    "kernelspec": {
      "name": "python3",
      "display_name": "Python 3"
    },
    "language_info": {
      "name": "python"
    }
  },
  "cells": [
    {
      "cell_type": "markdown",
      "metadata": {
        "id": "view-in-github",
        "colab_type": "text"
      },
      "source": [
        "<a href=\"https://colab.research.google.com/github/WouterFloors/Effect-of-r-Wallstreetbets/blob/main/Reddit_API.ipynb\" target=\"_parent\"><img src=\"https://colab.research.google.com/assets/colab-badge.svg\" alt=\"Open In Colab\"/></a>"
      ]
    },
    {
      "cell_type": "code",
      "metadata": {
        "id": "s9KUPS_90o91",
        "colab": {
          "base_uri": "https://localhost:8080/"
        },
        "outputId": "0b0000be-d6db-4051-d538-efc738765a90"
      },
      "source": [
        "import csv \n",
        "import time\n",
        "from datetime import date\n",
        "import requests\n",
        "\n",
        "\n",
        "def write_headers():\n",
        "  with open(\"reddit_api_post_data.csv\", \"w\") as csv_file:\n",
        "          writer = csv.writer(csv_file, delimiter = \"\\t\")\n",
        "          writer.writerow([\"title\", \"body\", \"permalink\", \"user\", \"upvotes\", \"downvotes\", \"upvote_ratio\", \"image\", \"total_awards\", \"flair\", \"num_comments\", \"date\", \"unix\"])\n",
        "          csv_file.close()\n",
        "\n",
        "def clean(text):\n",
        "  return(text.replace('\\n','').replace('\\t', ''))\n",
        "\n",
        "def get_data():\n",
        "  after = None\n",
        "  count = 0\n",
        "  #Get data from API  \n",
        "  while (after != None) or (count == 0):\n",
        "      url = 'https://www.reddit.com/r/wallstreetbets/top.json'\n",
        "      headers = {'authority': 'www.reddit.com', 'cache-control': 'max-age=0', 'upgrade-insecure-requests': '1', 'user-agent': 'Mozilla/5.0 (Macintosh; Intel Mac OS X 10_15_7) AppleWebKit/537.36 (KHTML, like Gecko) Chrome/87.0.4280.88 Safari/537.36', 'accept': 'text/html,application/xhtml+xml,application/xml;q=0.9,image/avif,image/webp,image/apng,*/*;q=0.8,application/signed-exchange;v=b3;q=0.9', 'sec-fetch-site': 'same-origin', 'sec-fetch-mode': 'navigate', 'sec-fetch-user': '?1', 'sec-fetch-dest': 'document', 'accept-language': 'en-GB,en;q=0.9'}\n",
        "      print('processing ' + url + ' with after parameter: ' + str(after))\n",
        "      response = requests.get(url, \n",
        "                              headers=headers, \n",
        "                              params={\"after\": after})\n",
        "      json_response = response.json()\n",
        "      after = json_response['data']['after'] \n",
        "\n",
        "  #Specify which data to get  \n",
        "      f = open(\"reddit_api_post_data.csv\", \"a\")\n",
        "      datetoday = str(date.today())\n",
        "      timenow = str(time.time())   \n",
        "      for item in json_response['data']['children']: \n",
        "          titles = item['data']['title']\n",
        "          bodys = item['data']['selftext']\n",
        "          permalinks = item['data']['permalink']\n",
        "          users = item['data']['author']\n",
        "          upvotes = str(item['data']['ups'])\n",
        "          downvotes = str(item['data']['downs'])\n",
        "          upvote_ratios = str(item['data']['upvote_ratio'])\n",
        "          images = item['data']['url']\n",
        "          total_awards = str(item['data']['total_awards_received'])\n",
        "          flairs = item['data']['link_flair_css_class']\n",
        "          num_comments = str(item['data']['num_comments'])\n",
        "          sep = '\\t'\n",
        "          f.write(clean(titles) + sep)\n",
        "          f.write(clean(bodys) + sep)\n",
        "          f.write(permalinks + sep)\n",
        "          f.write(clean(users) + sep)\n",
        "          f.write(upvotes + sep)\n",
        "          f.write(downvotes + sep)\n",
        "          f.write(upvote_ratios + sep)\n",
        "          f.write(images + sep)\n",
        "          f.write(total_awards + sep)\n",
        "          f.write(flairs + sep)\n",
        "          f.write(num_comments + sep)\n",
        "          f.write(datetoday + sep)\n",
        "          f.write(timenow + sep)\n",
        "          f.write('\\n')\n",
        "      f.close()\n",
        "      count = count + 1\n",
        "print('done!')\n"
      ],
      "execution_count": 22,
      "outputs": [
        {
          "output_type": "stream",
          "name": "stdout",
          "text": [
            "done!\n"
          ]
        }
      ]
    },
    {
      "cell_type": "code",
      "metadata": {
        "id": "iJ35RuMxXUfN",
        "colab": {
          "base_uri": "https://localhost:8080/"
        },
        "outputId": "c8119363-13f1-4542-a57e-e6cf96cb2363"
      },
      "source": [
        "write_headers()\n",
        "print('headers written!')"
      ],
      "execution_count": 20,
      "outputs": [
        {
          "output_type": "stream",
          "name": "stdout",
          "text": [
            "headers written!\n"
          ]
        }
      ]
    },
    {
      "cell_type": "code",
      "metadata": {
        "colab": {
          "base_uri": "https://localhost:8080/"
        },
        "id": "A9-xmQUsEq-S",
        "outputId": "839bad7b-2e64-4140-9af2-c6c968b11a82"
      },
      "source": [
        "get_data()\n",
        "print('data written!')"
      ],
      "execution_count": 21,
      "outputs": [
        {
          "output_type": "stream",
          "name": "stdout",
          "text": [
            "processing https://www.reddit.com/r/wallstreetbets/top.json with after parameter: None\n",
            "processing https://www.reddit.com/r/wallstreetbets/top.json with after parameter: t3_pxd9uv\n",
            "processing https://www.reddit.com/r/wallstreetbets/top.json with after parameter: t3_px8g71\n",
            "processing https://www.reddit.com/r/wallstreetbets/top.json with after parameter: t3_pxbt1r\n",
            "processing https://www.reddit.com/r/wallstreetbets/top.json with after parameter: t3_pxntsl\n",
            "processing https://www.reddit.com/r/wallstreetbets/top.json with after parameter: t3_pxbd46\n",
            "data written!\n"
          ]
        }
      ]
    }
  ]
}
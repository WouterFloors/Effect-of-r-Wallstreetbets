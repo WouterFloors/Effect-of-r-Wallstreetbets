{
  "nbformat": 4,
  "nbformat_minor": 0,
  "metadata": {
    "colab": {
      "name": "WallStreetBets API.ipynb",
      "provenance": [],
      "collapsed_sections": [],
      "include_colab_link": true
    },
    "kernelspec": {
      "display_name": "Python 3",
      "name": "python3"
    },
    "language_info": {
      "name": "python"
    }
  },
  "cells": [
    {
      "cell_type": "markdown",
      "metadata": {
        "id": "view-in-github",
        "colab_type": "text"
      },
      "source": [
        "<a href=\"https://colab.research.google.com/github/WouterFloors/Effect-of-r-Wallstreetbets/blob/main/WallStreetBets_API.ipynb\" target=\"_parent\"><img src=\"https://colab.research.google.com/assets/colab-badge.svg\" alt=\"Open In Colab\"/></a>"
      ]
    },
    {
      "cell_type": "code",
      "metadata": {
        "colab": {
          "base_uri": "https://localhost:8080/"
        },
        "id": "AXGb60NPyqVH",
        "outputId": "9a3b725f-6fa8-4383-dc80-c720450f87dc"
      },
      "source": [
        "import csv \n",
        "import time\n",
        "from datetime import date\n",
        "import requests\n",
        "\n",
        "\n",
        "def write_headers():\n",
        "    with open(\"reddit_wsb_api.csv\", \"a\", newline='') as csv_file:\n",
        "            writer = csv.writer(csv_file, delimiter = \";\")\n",
        "            writer.writerow([\"ticker\", \"no_of_comments\", \"sentiment\", \"sentiment_score\", \"date\", \"unix\"])\n",
        "            csv_file.close()\n",
        "\n",
        "\n",
        "#Get data from API\n",
        "def get_data():\n",
        "    url = 'https://dashboard.nbshare.io/api/v1/apps/reddit'\n",
        "    response = requests.get(url)\n",
        "    json_response = response.json()\n",
        "\n",
        "    #Write to CSV file in append mode\n",
        "    with open(\"reddit_wsb_api.csv\", \"a\", newline='') as csv_file:\n",
        "        writer = csv.writer(csv_file, delimiter = \";\")\n",
        "        datetoday = date.today()\n",
        "        timenow = time.time()\n",
        "        for content in json_response:\n",
        "            writer.writerow([content['ticker'], content['no_of_comments'], content['sentiment'], content['sentiment_score'], datetoday, timenow])\n",
        "        csv_file.close()\n",
        "\n",
        "#rather use scheduling; see https://tilburgsciencehub.com/schedule/task\n",
        "\n",
        "print('done!')"
      ],
      "execution_count": null,
      "outputs": [
        {
          "output_type": "stream",
          "name": "stdout",
          "text": [
            "done!\n"
          ]
        }
      ]
    },
    {
      "cell_type": "code",
      "metadata": {
        "colab": {
          "base_uri": "https://localhost:8080/"
        },
        "id": "IH4TZp0s7_jo",
        "outputId": "17290ef5-0d34-4fa6-8bac-3ad8f140489c"
      },
      "source": [
        "write_headers()\n",
        "print('written headers!')"
      ],
      "execution_count": null,
      "outputs": [
        {
          "output_type": "stream",
          "name": "stdout",
          "text": [
            "written headers!\n"
          ]
        }
      ]
    },
    {
      "cell_type": "code",
      "metadata": {
        "colab": {
          "base_uri": "https://localhost:8080/"
        },
        "id": "rsnyIsom9mqM",
        "outputId": "20201b89-6b86-4a71-88f7-a3401dbce4ad"
      },
      "source": [
        "get_data()\n",
        "print('data gotten!')"
      ],
      "execution_count": null,
      "outputs": [
        {
          "output_type": "stream",
          "name": "stdout",
          "text": [
            "data gotten!\n"
          ]
        }
      ]
    }
  ]
}